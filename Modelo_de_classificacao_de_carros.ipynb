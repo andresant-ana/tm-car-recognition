{
  "nbformat": 4,
  "nbformat_minor": 0,
  "metadata": {
    "colab": {
      "provenance": []
    },
    "kernelspec": {
      "name": "python3",
      "display_name": "Python 3"
    },
    "language_info": {
      "name": "python"
    }
  },
  "cells": [
    {
      "cell_type": "markdown",
      "source": [],
      "metadata": {
        "id": "KXmxeABO53no"
      }
    },
    {
      "cell_type": "markdown",
      "source": [
        "### Modelo de Classificação de Carros: Sedan, Hatch ou Picape"
      ],
      "metadata": {
        "id": "g2XVZtql9zLs"
      }
    },
    {
      "cell_type": "markdown",
      "source": [
        "O modelo foi treinado com uma grande variedade de imagens de carros e aprendeu a identificar características distintivas de cada tipo. Utilizando uma arquitetura de rede neural convolucional (CNN), o modelo analisa as características visuais da imagem para fazer sua predição.\n",
        "\n",
        "Ao fornecer uma imagem de um carro como entrada, o modelo realiza uma série de cálculos e retorna a classe prevista, juntamente com uma pontuação de confiança associada. As classes possíveis são sedan, hatch e picape.\n",
        "\n",
        "Este modelo pode ser útil em diversas aplicações, como classificação de veículos em vídeos de tráfego, identificação de tipos de carros em imagens de concessionárias e muito mais."
      ],
      "metadata": {
        "id": "6JGHjb7c_7uK"
      }
    },
    {
      "cell_type": "code",
      "execution_count": null,
      "metadata": {
        "id": "AnZA2ieo5HoO"
      },
      "outputs": [],
      "source": [
        "# Importando as bibliotecas necessárias\n",
        "\n",
        "from keras.models import load_model\n",
        "from PIL import Image, ImageOps\n",
        "import numpy as np"
      ]
    },
    {
      "cell_type": "code",
      "source": [
        "# Desabilita a notação científica para o array numpy\n",
        "# Ou seja, os números serão impressos como números decimais normais, em vez de serem representados em notação exponencial\n",
        "\n",
        "np.set_printoptions(suppress=True)"
      ],
      "metadata": {
        "id": "-XWHCZ8K6Cwo"
      },
      "execution_count": null,
      "outputs": []
    },
    {
      "cell_type": "code",
      "source": [
        "# Carregando o modelo\n",
        "\n",
        "modelo = load_model(\"/content/keras_model.h5\", compile=False)"
      ],
      "metadata": {
        "id": "a4Scri6e6Hm_"
      },
      "execution_count": null,
      "outputs": []
    },
    {
      "cell_type": "code",
      "source": [
        "# Carregando as classes\n",
        "\n",
        "nomes_classes = open(\"/content/labels.txt\", \"r\").readlines()"
      ],
      "metadata": {
        "id": "lKJVhF3t6KGX"
      },
      "execution_count": null,
      "outputs": []
    },
    {
      "cell_type": "code",
      "source": [
        "# Cria o array com a forma correta para alimentar o modelo keras\n",
        "# O comprimento (número de imagens que você pode colocar no array) é\n",
        "# determinado pela primeira posição na tupla, neste caso, 1\n",
        "\n",
        "dados = np.ndarray(shape=(1, 224, 224, 3), dtype=np.float32)"
      ],
      "metadata": {
        "id": "UMhGYvPz6UK4"
      },
      "execution_count": null,
      "outputs": []
    },
    {
      "cell_type": "code",
      "source": [
        "# Substitua isso pelo caminho para sua imagem\n",
        "\n",
        "imagem = Image.open(\"/content/fiattitano.webp\").convert(\"RGB\")"
      ],
      "metadata": {
        "id": "5BXSdz8l6bkP"
      },
      "execution_count": null,
      "outputs": []
    },
    {
      "cell_type": "code",
      "source": [
        "# Redimensionando a imagem para ter pelo menos 224x224\n",
        "\n",
        "tamanho = (224, 224)\n",
        "imagem = ImageOps.fit(imagem, tamanho, Image.Resampling.LANCZOS)"
      ],
      "metadata": {
        "id": "8aAiu7316gDv"
      },
      "execution_count": null,
      "outputs": []
    },
    {
      "cell_type": "code",
      "source": [
        "# Transformando a imagem em um array numpy\n",
        "\n",
        "array_imagem = np.asarray(imagem)"
      ],
      "metadata": {
        "id": "Bi08-4j46kJH"
      },
      "execution_count": null,
      "outputs": []
    },
    {
      "cell_type": "code",
      "source": [
        "# Normalizando a imagem\n",
        "\n",
        "array_imagem_normalizado = (array_imagem.astype(np.float32) / 127.5) - 1"
      ],
      "metadata": {
        "id": "JPucxaDL6lr3"
      },
      "execution_count": null,
      "outputs": []
    },
    {
      "cell_type": "code",
      "source": [
        "# Carregando a imagem no array\n",
        "\n",
        "dados[0] = array_imagem_normalizado"
      ],
      "metadata": {
        "id": "DXFKVq3q6nqf"
      },
      "execution_count": null,
      "outputs": []
    },
    {
      "cell_type": "code",
      "source": [
        "# Fazendo a previsão do modelo\n",
        "previsao = modelo.predict(dados)\n",
        "\n",
        "# Encontrando o índice da classe com a maior probabilidade na previsão\n",
        "indice = np.argmax(previsao)\n",
        "\n",
        "# Obtendo o nome da classe correspondente ao índice encontrado\n",
        "nome_classe = nomes_classes[indice]\n",
        "\n",
        "# Obtendo a pontuação de confiança associada à classe prevista\n",
        "pontuacao_confianca = previsao[0][indice]"
      ],
      "metadata": {
        "colab": {
          "base_uri": "https://localhost:8080/"
        },
        "id": "zvI-5nvQ6o6_",
        "outputId": "33e6bfb4-7c92-4d9c-af3b-04e45b877aed"
      },
      "execution_count": null,
      "outputs": [
        {
          "output_type": "stream",
          "name": "stderr",
          "text": [
            "WARNING:tensorflow:5 out of the last 6 calls to <function Model.make_predict_function.<locals>.predict_function at 0x7fba632851b0> triggered tf.function retracing. Tracing is expensive and the excessive number of tracings could be due to (1) creating @tf.function repeatedly in a loop, (2) passing tensors with different shapes, (3) passing Python objects instead of tensors. For (1), please define your @tf.function outside of the loop. For (2), @tf.function has reduce_retracing=True option that can avoid unnecessary retracing. For (3), please refer to https://www.tensorflow.org/guide/function#controlling_retracing and https://www.tensorflow.org/api_docs/python/tf/function for  more details.\n"
          ]
        },
        {
          "output_type": "stream",
          "name": "stdout",
          "text": [
            "1/1 [==============================] - 2s 2s/step\n"
          ]
        }
      ]
    },
    {
      "cell_type": "code",
      "source": [
        "# Imprimndo resultado da previsão e sua pontuação de confiança\n",
        "\n",
        "print(\"Classe:\", nome_classe[2:], end=\"\")\n",
        "print(\"Pontuação de Confiança:\", pontuacao_confianca)"
      ],
      "metadata": {
        "colab": {
          "base_uri": "https://localhost:8080/"
        },
        "id": "_fguM9vm6qdH",
        "outputId": "3995fc6c-0788-4a46-ae72-920cc90dd4e5"
      },
      "execution_count": null,
      "outputs": [
        {
          "output_type": "stream",
          "name": "stdout",
          "text": [
            "Classe: picape\n",
            "Pontuação de Confiança: 0.77010965\n"
          ]
        }
      ]
    }
  ]
}